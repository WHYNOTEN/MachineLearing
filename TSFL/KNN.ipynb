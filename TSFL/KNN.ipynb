{
 "cells": [
  {
   "cell_type": "markdown",
   "metadata": {
    "heading_collapsed": true
   },
   "source": [
    "# Tensorflow 实现KNN"
   ]
  },
  {
   "cell_type": "code",
   "execution_count": 21,
   "metadata": {
    "ExecuteTime": {
     "end_time": "2019-12-18T14:27:56.951321Z",
     "start_time": "2019-12-18T14:27:56.948362Z"
    },
    "hidden": true
   },
   "outputs": [],
   "source": [
    "import numpy as numpy\n",
    "import tensorflow as tf\n",
    "import pandas as pd\n",
    "import os\n",
    "import re"
   ]
  },
  {
   "cell_type": "markdown",
   "metadata": {
    "heading_collapsed": true
   },
   "source": [
    "# 读取数据集以及标签"
   ]
  },
  {
   "cell_type": "code",
   "execution_count": 8,
   "metadata": {
    "ExecuteTime": {
     "end_time": "2019-12-18T14:14:04.758676Z",
     "start_time": "2019-12-18T14:14:03.892679Z"
    },
    "hidden": true
   },
   "outputs": [
    {
     "data": {
      "text/plain": [
       "array([0, 0, 0, ..., 9, 9, 9])"
      ]
     },
     "execution_count": 8,
     "metadata": {},
     "output_type": "execute_result"
    }
   ],
   "source": [
    "# 读取数据集\n",
    "def getData(path,index):\n",
    "    filepath =  path+index\n",
    "    trainFiles_0 = os.listdir(filepath)\n",
    "    data_0 = np.zeros((len(trainFiles_0),1024))\n",
    "    for i in range(len(trainFiles_0)):\n",
    "        data = []\n",
    "        with open(filepath+'/%s'%trainFiles_0[i]) as f:\n",
    "            x = f.readline()[:-1]\n",
    "            while x!='':\n",
    "                data.extend([int(i) for i in x])\n",
    "                x = f.readline()[:-1]\n",
    "        data_0[i:,] = np.array(data).reshape(1,1024)\n",
    "    return data_0\n",
    "\n",
    "def ToNumpy(n,path):\n",
    "    \"\"\"\n",
    "    param:n set据字典key总数\n",
    "    param：path，文件夹路径和\n",
    "    \"\"\"\n",
    "    data_dict = {}\n",
    "    m = 0\n",
    "    for i in range(n):\n",
    "        data_dict[str(i)] = getData(path,str(i))\n",
    "        m += data_dict['%s'%i].shape[0]\n",
    "    data_Map = np.zeros((m,1024))\n",
    "    for i in range(n):\n",
    "        if i == 0:\n",
    "            data_Map[0:data_dict[str(i)].shape[0]] = data_dict[str(i)]\n",
    "        else:\n",
    "            data_Map[data_dict[str(i-1)].shape[0]:data_dict[str(i-1)].shape[0]+data_dict[str(i)].shape[0]] = data_dict[str(i)]\n",
    "    return data_Map\n",
    "Xtrain = ToNumpy(10,\"F:/Jupyter_INFO/TSFL/trainingDigits/\")\n",
    "Ytrain = []\n",
    "for i in range(10):\n",
    "    Ytrain.extend([i]*len(os.listdir(\"F:/Jupyter_INFO/TSFL/trainingDigits/\"+str(i))))\n",
    "Ytrain = np.array(Ytrain)"
   ]
  },
  {
   "cell_type": "markdown",
   "metadata": {
    "heading_collapsed": true
   },
   "source": [
    "# 读取训练集以及标签"
   ]
  },
  {
   "cell_type": "code",
   "execution_count": 15,
   "metadata": {
    "ExecuteTime": {
     "end_time": "2019-12-18T14:16:07.761961Z",
     "start_time": "2019-12-18T14:16:07.396099Z"
    },
    "hidden": true,
    "scrolled": true
   },
   "outputs": [
    {
     "data": {
      "text/plain": [
       "(946, 1024)"
      ]
     },
     "execution_count": 15,
     "metadata": {},
     "output_type": "execute_result"
    }
   ],
   "source": [
    "# 读取数据集\n",
    "filepath2 = \"F:/Jupyter_INFO/TSFL/testDigits/\"\n",
    "files =  os.listdir(filepath2)\n",
    "Xtemp = []\n",
    "for x in files:\n",
    "    data = []\n",
    "    with open(filepath2+x) as f:\n",
    "        x = f.readline()[:-1]\n",
    "        while x!='':\n",
    "            data.extend([int(i) for i in x])\n",
    "            x = f.readline()[:-1]\n",
    "    Xtemp.append(data)\n",
    "Xtest = np.array(Xtemp)\n",
    "#读取标签\n",
    "test_result = []\n",
    "for x in files:\n",
    "    test_result.append(int(re.findall(\"[0-9]{1}_\",x)[0][0]))\n",
    "Ytest = np.array(test_result)"
   ]
  },
  {
   "cell_type": "markdown",
   "metadata": {},
   "source": [
    "# 将数据交给Tensoflow处理"
   ]
  },
  {
   "cell_type": "code",
   "execution_count": 20,
   "metadata": {
    "ExecuteTime": {
     "end_time": "2019-12-18T14:19:31.468381Z",
     "start_time": "2019-12-18T14:19:31.464372Z"
    },
    "scrolled": true
   },
   "outputs": [
    {
     "name": "stdout",
     "output_type": "stream",
     "text": [
      "(1934, 1024) (1934,) (946, 1024) (946,)\n"
     ]
    }
   ],
   "source": [
    "print(Xtrain.shape,Ytrain.shape,Xtest.shape,Ytest.shape)"
   ]
  },
  {
   "cell_type": "code",
   "execution_count": null,
   "metadata": {},
   "outputs": [],
   "source": [
    "xtr = tf"
   ]
  }
 ],
 "metadata": {
  "kernelspec": {
   "display_name": "Python 3",
   "language": "python",
   "name": "python3"
  },
  "language_info": {
   "codemirror_mode": {
    "name": "ipython",
    "version": 3
   },
   "file_extension": ".py",
   "mimetype": "text/x-python",
   "name": "python",
   "nbconvert_exporter": "python",
   "pygments_lexer": "ipython3",
   "version": "3.6.9"
  },
  "toc": {
   "base_numbering": 1,
   "nav_menu": {},
   "number_sections": true,
   "sideBar": true,
   "skip_h1_title": false,
   "title_cell": "Table of Contents",
   "title_sidebar": "Contents",
   "toc_cell": false,
   "toc_position": {},
   "toc_section_display": true,
   "toc_window_display": false
  },
  "varInspector": {
   "cols": {
    "lenName": 16,
    "lenType": 16,
    "lenVar": 40
   },
   "kernels_config": {
    "python": {
     "delete_cmd_postfix": "",
     "delete_cmd_prefix": "del ",
     "library": "var_list.py",
     "varRefreshCmd": "print(var_dic_list())"
    },
    "r": {
     "delete_cmd_postfix": ") ",
     "delete_cmd_prefix": "rm(",
     "library": "var_list.r",
     "varRefreshCmd": "cat(var_dic_list()) "
    }
   },
   "position": {
    "height": "367.097px",
    "left": "946.653px",
    "right": "20px",
    "top": "33px",
    "width": "706.194px"
   },
   "types_to_exclude": [
    "module",
    "function",
    "builtin_function_or_method",
    "instance",
    "_Feature"
   ],
   "window_display": true
  }
 },
 "nbformat": 4,
 "nbformat_minor": 2
}
