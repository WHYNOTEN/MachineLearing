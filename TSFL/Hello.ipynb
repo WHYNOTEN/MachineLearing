{
 "cells": [
  {
   "cell_type": "code",
   "execution_count": 1,
   "metadata": {
    "Collapsed": "false",
    "ExecuteTime": {
     "end_time": "2019-12-07T08:12:04.386278Z",
     "start_time": "2019-12-07T08:11:56.827156Z"
    }
   },
   "outputs": [
    {
     "name": "stdout",
     "output_type": "stream",
     "text": [
      "/job:localhost/replica:0/task:0/device:CPU:0 /job:localhost/replica:0/task:0/device:CPU:0\n",
      "/job:localhost/replica:0/task:0/device:GPU:0 /job:localhost/replica:0/task:0/device:GPU:0\n",
      "运行时间： CPU时间： 0.09849138771981071 GPU时间 0.7991797793660467\n",
      "运行时间： CPU时间： 0.11043257776907434 GPU时间 0.0007986320417738835\n"
     ]
    }
   ],
   "source": [
    "import timeit\n",
    "import tensorflow as tf\n",
    "\n",
    "# 创建在CPU运算的两个矩阵\n",
    "with tf.device(\"/cpu:0\"):\n",
    "    cpu_a = tf.random.normal([1, 10000000])\n",
    "    cpu_b = tf.random.normal([10000000, 1])\n",
    "    print(cpu_a.device, cpu_b.device)\n",
    "\n",
    "# 创建在GPU运算的两个矩阵\n",
    "with tf.device(\"/gpu:0\"):\n",
    "    gpu_a = tf.random.normal([1, 10000000])\n",
    "    gpu_b = tf.random.normal([10000000, 1])\n",
    "    print(gpu_a.device, gpu_b.device)\n",
    "\n",
    "def cpu_run():\n",
    "    with tf.device(\"/cpu:0\"):\n",
    "        c = tf.matmul(cpu_a, cpu_b)\n",
    "    return c\n",
    "\n",
    "\n",
    "def gpu_run():\n",
    "    with tf.device(\"/gpu:0\"):\n",
    "        c = tf.matmul(gpu_a, gpu_b)\n",
    "    return c\n",
    "\n",
    "# 避免将初始化时间算入，先进行预热\n",
    "cpu_time = timeit.timeit(cpu_run, number=10)\n",
    "gpu_time = timeit.timeit(gpu_run, number=10)\n",
    "print(\"运行时间：\", \"CPU时间：\",cpu_time,\"GPU时间\", gpu_time)\n",
    "# 正式计算，10次的平均时间\n",
    "cpu_time = timeit.timeit(cpu_run, number=10)\n",
    "gpu_time = timeit.timeit(gpu_run, number=10)\n",
    "print(\"运行时间：\", \"CPU时间：\",cpu_time,\"GPU时间\", gpu_time)"
   ]
  },
  {
   "cell_type": "code",
   "execution_count": 2,
   "metadata": {
    "Collapsed": "false",
    "ExecuteTime": {
     "end_time": "2019-12-07T08:12:17.571470Z",
     "start_time": "2019-12-07T08:12:17.566481Z"
    }
   },
   "outputs": [
    {
     "name": "stdout",
     "output_type": "stream",
     "text": [
      "2.0.0\n"
     ]
    }
   ],
   "source": []
  }
 ],
 "metadata": {
  "kernelspec": {
   "display_name": "Python 3",
   "language": "python",
   "name": "python3"
  },
  "language_info": {
   "codemirror_mode": {
    "name": "ipython",
    "version": 3
   },
   "file_extension": ".py",
   "mimetype": "text/x-python",
   "name": "python",
   "nbconvert_exporter": "python",
   "pygments_lexer": "ipython3",
   "version": "3.6.9"
  }
 },
 "nbformat": 4,
 "nbformat_minor": 4
}
