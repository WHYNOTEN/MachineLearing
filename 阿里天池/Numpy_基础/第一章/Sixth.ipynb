{
 "cells": [
  {
   "cell_type": "markdown",
   "metadata": {
    "Collapsed": "false"
   },
   "source": [
    "数学和统计方法"
   ]
  },
  {
   "cell_type": "markdown",
   "metadata": {
    "Collapsed": "false"
   },
   "source": [
    "可以通过数组上的一组数学函数对整个数组或某个轴向的数据进行统计计算。sum、mean以及标准差std等聚合计算（aggregation，通常叫做约简（reduction））既可以当做数组的实例方法调用，也可以当做顶级NumPy函数使用。\n",
    "\n",
    "这里，我生成了一些正态分布随机数据，然后做了聚类统计："
   ]
  },
  {
   "cell_type": "code",
   "execution_count": 2,
   "metadata": {
    "Collapsed": "false"
   },
   "outputs": [
    {
     "name": "stdout",
     "output_type": "stream",
     "text": [
      "[[ 0.9987315  -1.48069383  1.21047565 -0.09722426]\n",
      " [-0.15051079  0.47101803  0.48006275  1.38014497]\n",
      " [ 0.01154375 -0.07611624  0.31254702 -1.1519071 ]\n",
      " [ 0.33466808 -0.65496702  0.0141203  -0.0078273 ]\n",
      " [ 1.2752055  -0.33012526  0.19632502 -1.26091585]]\n",
      "0.0737277463247544\n",
      "0.0737277463247544\n",
      "1.474554926495088\n"
     ]
    }
   ],
   "source": [
    "arr = np.random.randn(5, 4)\n",
    "print(arr)\n",
    "print(arr.mean())\n",
    "print(np.mean(arr))\n",
    "print(arr.sum())"
   ]
  },
  {
   "cell_type": "markdown",
   "metadata": {
    "Collapsed": "false"
   },
   "source": [
    "mean和sum这类的函数可以接受一个axis选项参数，用于计算该轴向上的统计值，最终结果是一个少一维的数组\n",
    "arr.mean(1)是“计算行的平均值”，arr.sum(0)是“计算每列的和”"
   ]
  },
  {
   "cell_type": "code",
   "execution_count": 6,
   "metadata": {
    "Collapsed": "false"
   },
   "outputs": [
    {
     "name": "stdout",
     "output_type": "stream",
     "text": [
      "[ 0.15782227  0.54517874 -0.22598314 -0.07850149 -0.02987765]\n",
      "[ 0.63128907  2.18071496 -0.90393257 -0.31400594 -0.11951059]\n"
     ]
    }
   ],
   "source": [
    "print(arr.mean(axis = 1))\n",
    "print(arr.sum(axis=1))"
   ]
  },
  {
   "cell_type": "code",
   "execution_count": 16,
   "metadata": {
    "Collapsed": "false"
   },
   "outputs": [
    {
     "name": "stdout",
     "output_type": "stream",
     "text": [
      "[2.5 2.5]\n",
      "[2 4 6 8]\n"
     ]
    }
   ],
   "source": [
    "a = np.array([[1,2,3,4],[1,2,3,4]])\n",
    "print(a.mean(axis = 1))\n",
    "print(a.sum(axis = 0))"
   ]
  },
  {
   "cell_type": "markdown",
   "metadata": {
    "Collapsed": "false"
   },
   "source": [
    "多维数组中，累加函数（如cumsum）返回的是同样大小的数组，但是会根据每个低维的切片沿着标记轴计算部分聚类\n",
    "更多方法见文档"
   ]
  },
  {
   "cell_type": "code",
   "execution_count": 18,
   "metadata": {
    "Collapsed": "false"
   },
   "outputs": [
    {
     "name": "stdout",
     "output_type": "stream",
     "text": [
      "[[0 1 2]\n",
      " [3 4 5]\n",
      " [6 7 8]]\n",
      "[[ 0  1  2]\n",
      " [ 3  5  7]\n",
      " [ 9 12 15]]\n",
      "[[  0   0   0]\n",
      " [  3  12  60]\n",
      " [  6  42 336]]\n"
     ]
    }
   ],
   "source": [
    "arr = np.array([[0, 1, 2], [3, 4, 5], [6, 7, 8]])\n",
    "print(arr)\n",
    "print(arr.cumsum(axis=0))\n",
    "print(arr.cumprod(axis=1))"
   ]
  },
  {
   "cell_type": "markdown",
   "metadata": {
    "Collapsed": "false"
   },
   "source": [
    "上面这些方法中，布尔值会被强制转换为1（True）和0（False）。因此，sum经常被用来对布尔型数组中的True值计数\n",
    "另外还有两个方法any和all，它们对布尔型数组非常有用。any用于测试数组中是否存在一个或多个True，而all则检查数组中所有值是否都是True："
   ]
  },
  {
   "cell_type": "code",
   "execution_count": 23,
   "metadata": {
    "Collapsed": "false"
   },
   "outputs": [
    {
     "name": "stdout",
     "output_type": "stream",
     "text": [
      "56\n"
     ]
    }
   ],
   "source": [
    "arr = np.random.randn(100)\n",
    "print((arr>0).sum())"
   ]
  },
  {
   "cell_type": "code",
   "execution_count": 25,
   "metadata": {
    "Collapsed": "false"
   },
   "outputs": [
    {
     "name": "stdout",
     "output_type": "stream",
     "text": [
      "True\n",
      "False\n"
     ]
    }
   ],
   "source": [
    "bools = np.array([False, False, True, False])\n",
    "print(bools.any())\n",
    "print(bools.all())"
   ]
  },
  {
   "cell_type": "markdown",
   "metadata": {
    "Collapsed": "false"
   },
   "source": [
    "排序\n",
    "\n",
    "NumPy中提供了各种排序相关功能。 这些排序函数实现不同的排序算法，每个排序算法的特征在于执行速度，最坏情况性能，所需的工作空间和算法的稳定性。 下表显示了三种排序算法的比较。\n",
    "种类                   速度    最坏情况     工作空间  稳定性\n",
    "quicksort'(快速排序) \t1 \tO(n^2) \t        0 \t    否\n",
    "'mergesort'(归并排序) \t2 \tO(n*log(n)) \t~n/2 \t是\n",
    "'heapsort'(堆排序) \t 3 \t O(n*log(n)) \t 0 \t     否"
   ]
  },
  {
   "cell_type": "markdown",
   "metadata": {
    "Collapsed": "false"
   },
   "source": [
    "sort()函数返回输入数组的排序副本。 它有以下参数：\n",
    "\n",
    "numpy.sort(a, axis, kind, order)\n",
    "1   a 要排序的数组\n",
    "2 \taxis 沿着它排序数组的轴，如果没有数组会被展开，沿着最后的轴排序\n",
    "3 \tkind 默认为'quicksort'(快速排序)\n",
    "4 \torder 如果数组包含字段，则是要排序的字段"
   ]
  },
  {
   "cell_type": "code",
   "execution_count": 31,
   "metadata": {
    "Collapsed": "false"
   },
   "outputs": [
    {
     "name": "stdout",
     "output_type": "stream",
     "text": [
      "待排序数组：\n",
      "\n",
      "[[3 7]\n",
      " [9 1]]\n",
      "________________________________\n",
      "调用 sort() 函数：\n",
      "[[3 7]\n",
      " [1 9]]\n",
      "________________________________\n",
      "沿轴 0 排序：\n",
      "[[3 1]\n",
      " [9 7]]\n",
      "沿轴 1 排序：\n",
      "[[3 7]\n",
      " [1 9]]\n",
      "我们的数组是：\n",
      "[(b'raju', 21) (b'anil', 25) (b'ravi', 17) (b'amar', 27)]\n",
      "\n",
      "\n",
      "按 name 排序：\n",
      "[(b'amar', 27) (b'anil', 25) (b'raju', 21) (b'ravi', 17)]\n"
     ]
    }
   ],
   "source": [
    "a = np.array([[3,7],[9,1]])\n",
    "print(\"待排序数组：\\n\")\n",
    "print(a)\n",
    "print(\"________________________________\")\n",
    "print(\"调用 sort() 函数：\")\n",
    "print(np.sort(a))\n",
    "print(\"________________________________\")\n",
    "print ('沿轴 0 排序：')  \n",
    "print(np.sort(a,axis = 0))\n",
    "print ('沿轴 1 排序：') \n",
    "print(np.sort(a,axis = 1))\n",
    "# 在 sort 函数中排序字段 \n",
    "dt = np.dtype([('name',  'S10'),('age',  int)]) \n",
    "a = np.array([(\"raju\",21),(\"anil\",25),(\"ravi\",  17),  (\"amar\",27)], dtype = dt)  \n",
    "print ('我们的数组是：')  \n",
    "print (a) \n",
    "print ('\\n')  \n",
    "print ('按 name 排序：')  \n",
    "print (np.sort(a, order =  'name'))"
   ]
  },
  {
   "cell_type": "markdown",
   "metadata": {
    "Collapsed": "false"
   },
   "source": [
    "numpy.argsort()函数对输入数组沿给定轴执行间接排序，并使用指定排序类型返回数据的索引数组。 这个索引数组用于构造排序后的数组。"
   ]
  },
  {
   "cell_type": "code",
   "execution_count": 33,
   "metadata": {
    "Collapsed": "false"
   },
   "outputs": [
    {
     "name": "stdout",
     "output_type": "stream",
     "text": [
      "[[ 0.75950218 -1.38071106 -1.92497268]\n",
      " [-1.73291189  0.76717194  0.36693274]\n",
      " [-0.67162654  0.05224022  0.28578127]\n",
      " [ 0.12452654  1.57474511 -1.22492488]\n",
      " [-0.12900973  1.9936443   0.40461725]]\n",
      "[[-1.92497268 -1.38071106  0.75950218]\n",
      " [-1.73291189  0.36693274  0.76717194]\n",
      " [-0.67162654  0.05224022  0.28578127]\n",
      " [-1.22492488  0.12452654  1.57474511]\n",
      " [-0.12900973  0.40461725  1.9936443 ]]\n"
     ]
    }
   ],
   "source": [
    "arr = np.random.randn(5, 3)\n",
    "print(arr)\n",
    "\n",
    "arr.sort(1)\n",
    "print(arr)"
   ]
  },
  {
   "cell_type": "code",
   "execution_count": 35,
   "metadata": {
    "Collapsed": "false"
   },
   "outputs": [
    {
     "name": "stdout",
     "output_type": "stream",
     "text": [
      "我们的数组是：\n",
      "[3 1 2]\n",
      "\n",
      "\n",
      "对 x 调用 argsort() 函数：\n",
      "[1 2 0]\n",
      "\n",
      "\n",
      "以排序后的顺序重构原数组：\n",
      "[1 2 3]\n",
      "\n",
      "\n",
      "使用循环重构原数组：\n",
      "1\n",
      "2\n",
      "3\n"
     ]
    }
   ],
   "source": [
    "x = np.array([3,  1,  2])  \n",
    "print ('我们的数组是：')  \n",
    "print (x) \n",
    "print ('\\n')  \n",
    "print ('对 x 调用 argsort() 函数：' )\n",
    "y = np.argsort(x)  \n",
    "print (y) \n",
    "print ('\\n')  \n",
    "print ('以排序后的顺序重构原数组：')  \n",
    "print (x[y])  \n",
    "print ('\\n')  \n",
    "print ('使用循环重构原数组：')  \n",
    "for i in y:  \n",
    "    print (x[i])"
   ]
  },
  {
   "cell_type": "markdown",
   "metadata": {
    "Collapsed": "false"
   },
   "source": [
    "numpy.lexsort()\n",
    "\n",
    "函数使用键序列执行间接排序。 键可以看作是电子表格中的一列。 该函数返回一个索引数组，使用它可以获得排序数据。 注意，最后一个键恰好是 sort 的主键。"
   ]
  },
  {
   "cell_type": "code",
   "execution_count": 37,
   "metadata": {
    "Collapsed": "false"
   },
   "outputs": [
    {
     "name": "stdout",
     "output_type": "stream",
     "text": [
      "调用 lexsort() 函数：\n",
      "[3 1 0 2]\n",
      "\n",
      "\n",
      "使用这个索引来获取排序后的数据：\n",
      "['amar, f.y.', 'anil, s.y.', 'raju, f.y.', 'ravi, s.y.']\n"
     ]
    }
   ],
   "source": [
    "nm =  ('raju','anil','ravi','amar') \n",
    "dv =  ('f.y.',  's.y.',  's.y.',  'f.y.') \n",
    "ind = np.lexsort((dv,nm))  \n",
    "print ('调用 lexsort() 函数：' ) \n",
    "print (ind) \n",
    "print ('\\n')  \n",
    "print ('使用这个索引来获取排序后的数据：')  \n",
    "print ([nm[i]  +  \", \"  + dv[i]  for i in ind])"
   ]
  },
  {
   "cell_type": "markdown",
   "metadata": {
    "Collapsed": "false"
   },
   "source": [
    " 唯一化以及其它的集合逻辑¶\n",
    "\n",
    "NumPy提供了一些针对一维ndarray的基本集合运算。最常用的可能要数np.unique了，它用于找出数组中的唯一值并返回已排序的结果："
   ]
  },
  {
   "cell_type": "code",
   "execution_count": 39,
   "metadata": {
    "Collapsed": "false"
   },
   "outputs": [
    {
     "name": "stdout",
     "output_type": "stream",
     "text": [
      "['Bob' 'Joe' 'Will']\n",
      "[1 2 3 4]\n"
     ]
    }
   ],
   "source": [
    "names = np.array(['Bob', 'Joe', 'Will', 'Bob', 'Will', 'Joe', 'Joe'])\n",
    "print(np.unique(names))\n",
    "ints = np.array([3, 3, 3, 2, 2, 1, 1, 4, 4])\n",
    "print(np.unique(ints))"
   ]
  },
  {
   "cell_type": "markdown",
   "metadata": {
    "Collapsed": "false"
   },
   "source": [
    "另一个函数np.in1d用于测试一个数组中的值在另一个数组中的成员资格，返回一个布尔型数组："
   ]
  },
  {
   "cell_type": "code",
   "execution_count": 40,
   "metadata": {
    "Collapsed": "false"
   },
   "outputs": [
    {
     "name": "stdout",
     "output_type": "stream",
     "text": [
      "[ True False False  True  True False  True]\n"
     ]
    }
   ],
   "source": [
    "values = np.array([6, 0, 0, 3, 2, 5, 6])\n",
    "\n",
    "print(np.in1d(values, [2, 3, 6]))"
   ]
  }
 ],
 "metadata": {
  "kernelspec": {
   "display_name": "Python 3",
   "language": "python",
   "name": "python3"
  },
  "language_info": {
   "codemirror_mode": {
    "name": "ipython",
    "version": 3
   },
   "file_extension": ".py",
   "mimetype": "text/x-python",
   "name": "python",
   "nbconvert_exporter": "python",
   "pygments_lexer": "ipython3",
   "version": "3.6.9"
  },
  "toc": {
   "base_numbering": 1,
   "nav_menu": {},
   "number_sections": true,
   "sideBar": true,
   "skip_h1_title": false,
   "title_cell": "Table of Contents",
   "title_sidebar": "Contents",
   "toc_cell": false,
   "toc_position": {},
   "toc_section_display": true,
   "toc_window_display": false
  },
  "varInspector": {
   "cols": {
    "lenName": 16,
    "lenType": 16,
    "lenVar": 40
   },
   "kernels_config": {
    "python": {
     "delete_cmd_postfix": "",
     "delete_cmd_prefix": "del ",
     "library": "var_list.py",
     "varRefreshCmd": "print(var_dic_list())"
    },
    "r": {
     "delete_cmd_postfix": ") ",
     "delete_cmd_prefix": "rm(",
     "library": "var_list.r",
     "varRefreshCmd": "cat(var_dic_list()) "
    }
   },
   "types_to_exclude": [
    "module",
    "function",
    "builtin_function_or_method",
    "instance",
    "_Feature"
   ],
   "window_display": true
  }
 },
 "nbformat": 4,
 "nbformat_minor": 4
}
