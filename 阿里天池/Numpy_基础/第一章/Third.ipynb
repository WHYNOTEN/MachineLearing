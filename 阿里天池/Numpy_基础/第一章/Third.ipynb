{
 "cells": [
  {
   "cell_type": "markdown",
   "metadata": {
    "Collapsed": "false"
   },
   "source": [
    "数组转置和轴对换\n",
    "转置是重塑的一种特殊形式，它返回的是源数据的视图（不会进行任何复制操作）"
   ]
  },
  {
   "cell_type": "code",
   "execution_count": 4,
   "metadata": {
    "Collapsed": "false"
   },
   "outputs": [
    {
     "name": "stdout",
     "output_type": "stream",
     "text": [
      "[[ 0  1  2  3  4]\n",
      " [ 5  6  7  8  9]\n",
      " [10 11 12 13 14]]\n",
      "数组转置：\n",
      "\n",
      "[[ 0  5 10]\n",
      " [ 1  6 11]\n",
      " [ 2  7 12]\n",
      " [ 3  8 13]\n",
      " [ 4  9 14]]\n",
      "利用np.dot计算矩阵的内积:\n",
      "[[125 140 155 170 185]\n",
      " [140 158 176 194 212]\n",
      " [155 176 197 218 239]\n",
      " [170 194 218 242 266]\n",
      " [185 212 239 266 293]]\n"
     ]
    }
   ],
   "source": [
    "import numpy as np\n",
    "arry0 = np.arange(15).reshape(3,5)\n",
    "print(arry0)\n",
    "print(\"数组转置：\\n\")\n",
    "print(arry0.T)\n",
    "print(\"利用np.dot计算矩阵的内积:\")\n",
    "print(np.dot(arry0.T,arry0))"
   ]
  },
  {
   "cell_type": "code",
   "execution_count": 5,
   "metadata": {
    "Collapsed": "false"
   },
   "outputs": [
    {
     "ename": "SyntaxError",
     "evalue": "invalid character in identifier (<ipython-input-5-7458c92ad013>, line 1)",
     "output_type": "error",
     "traceback": [
      "\u001b[1;36m  File \u001b[1;32m\"<ipython-input-5-7458c92ad013>\"\u001b[1;36m, line \u001b[1;32m1\u001b[0m\n\u001b[1;33m    对于高维数组，transpose需要得到一个由轴编号组成的元组才能对这些轴进行转置（比较费脑子）\u001b[0m\n\u001b[1;37m                                                   ^\u001b[0m\n\u001b[1;31mSyntaxError\u001b[0m\u001b[1;31m:\u001b[0m invalid character in identifier\n"
     ]
    }
   ],
   "source": [
    "对于高维数组，transpose需要得到一个由轴编号组成的元组才能对这些轴进行转置（比较费脑子）"
   ]
  },
  {
   "cell_type": "code",
   "execution_count": 10,
   "metadata": {
    "Collapsed": "false"
   },
   "outputs": [
    {
     "name": "stdout",
     "output_type": "stream",
     "text": [
      "[[[ 0  1  2  3]\n",
      "  [ 4  5  6  7]]\n",
      "\n",
      " [[ 8  9 10 11]\n",
      "  [12 13 14 15]]] (2, 2, 4)\n",
      "==========分割线==============\n",
      "[[[ 0  1  2  3]\n",
      "  [ 8  9 10 11]]\n",
      "\n",
      " [[ 4  5  6  7]\n",
      "  [12 13 14 15]]]\n"
     ]
    }
   ],
   "source": [
    "arr = np.arange(16).reshape((2, 2, 4))\n",
    "print(arr,arr.shape)\n",
    "print('==========分割线==============')\n",
    "print(arr.transpose((1, 0, 2)))"
   ]
  }
 ],
 "metadata": {
  "kernelspec": {
   "display_name": "Python 3",
   "language": "python",
   "name": "python3"
  },
  "language_info": {
   "codemirror_mode": {
    "name": "ipython",
    "version": 3
   },
   "file_extension": ".py",
   "mimetype": "text/x-python",
   "name": "python",
   "nbconvert_exporter": "python",
   "pygments_lexer": "ipython3",
   "version": "3.6.9"
  }
 },
 "nbformat": 4,
 "nbformat_minor": 4
}
