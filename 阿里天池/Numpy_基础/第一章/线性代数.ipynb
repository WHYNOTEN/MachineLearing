{
 "cells": [
  {
   "cell_type": "markdown",
   "metadata": {
    "Collapsed": "false"
   },
   "source": [
    "线性代数（如矩阵乘法、矩阵分解、行列式以及其他方阵数学等）是任何数组库的重要组成部分。不像某些语言（如MATLAB），通过*对两个二维数组相乘得到的是一个元素级的积，而不是一个矩阵点积。因此，NumPy提供了一个用于矩阵乘法的dot函数（既是一个数组方法也是numpy命名空间中的一个函数）：\n",
    "@符（类似Python 3.5）也可以用作中缀运算符，进行矩阵乘法"
   ]
  },
  {
   "cell_type": "code",
   "execution_count": 5,
   "metadata": {
    "Collapsed": "false"
   },
   "outputs": [
    {
     "name": "stdout",
     "output_type": "stream",
     "text": [
      "[[1. 2. 3.]\n",
      " [4. 5. 6.]]\n",
      "[[ 6. 23.]\n",
      " [-1.  7.]\n",
      " [ 8.  9.]]\n",
      "[[ 28.  64.]\n",
      " [ 67. 181.]]\n",
      "[[ 28.  64.]\n",
      " [ 67. 181.]]\n",
      "@符（类似Python 3.5）也可以用作中缀运算符，进行矩阵乘法\n",
      "[1. 1. 1.]\n",
      "[ 6. 15.]\n"
     ]
    }
   ],
   "source": [
    "import numpy as np\n",
    "\n",
    "x = np.array([[1., 2., 3.], [4., 5., 6.]])\n",
    "y = np.array([[6., 23.], [-1, 7], [8, 9]])\n",
    "\n",
    "print(x)\n",
    "print(y)\n",
    "print(x.dot(y))\n",
    "print(np.dot(x,y))\n",
    "print(\"@符（类似Python 3.5）也可以用作中缀运算符，进行矩阵乘法\")\n",
    "print(np.ones(3))\n",
    "print(x @ np.ones(3))"
   ]
  },
  {
   "cell_type": "markdown",
   "metadata": {
    "Collapsed": "false"
   },
   "source": [
    "numpy.linalg中有一组标准的矩阵分解运算以及诸如求逆和行列式之类的东西。它们跟MATLAB和R等语言所使用的是相同的行业标准线性代数库，如BLAS、LAPACK、Intel MKL（Math Kernel Library，可能有，取决于你的NumPy版本）等"
   ]
  },
  {
   "cell_type": "markdown",
   "metadata": {
    "Collapsed": "false"
   },
   "source": [
    "diag         以一维数组的形式返回仿真对角线(或非对角线元素),或将一维数组转为方阵(非对角元素为0)\n",
    "dot          矩阵乘法\n",
    "trace        计算对角线元素的和\n",
    "det          计算矩阵行列式\n",
    "eig          计算方阵的本征值和本征向量\n",
    "inv          计算方阵的逆\n",
    "pinv         计算矩阵的Moore-Preose伪逆\n",
    "qr           计算QR分解\n",
    "svd          计算奇异值分解\n",
    "solve        解线性方程组Ax=b,其中A为一个方阵\n",
    "lstsq        计算Ax=b的最小二乘解"
   ]
  },
  {
   "cell_type": "markdown",
   "metadata": {
    "Collapsed": "false"
   },
   "source": []
  }
 ],
 "metadata": {
  "kernelspec": {
   "display_name": "Python 3",
   "language": "python",
   "name": "python3"
  },
  "language_info": {
   "codemirror_mode": {
    "name": "ipython",
    "version": 3
   },
   "file_extension": ".py",
   "mimetype": "text/x-python",
   "name": "python",
   "nbconvert_exporter": "python",
   "pygments_lexer": "ipython3",
   "version": "3.6.9"
  }
 },
 "nbformat": 4,
 "nbformat_minor": 4
}
