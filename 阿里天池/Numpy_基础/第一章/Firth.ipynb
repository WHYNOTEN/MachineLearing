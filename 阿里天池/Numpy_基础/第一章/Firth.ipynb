{
 "cells": [
  {
   "cell_type": "markdown",
   "metadata": {
    "Collapsed": "false"
   },
   "source": [
    "通用函数：快速的元素级数组函数\n",
    "通用函数（即ufunc）是一种对ndarray中的数据执行元素级运算的函数。你可以将其看做简单函数（接受一个或多个标量值，并产生一个或多个标量值）的矢量化包装器。更多函数见 https://tianchi.aliyun.com/notebook-ai/detail?postId=5977"
   ]
  },
  {
   "cell_type": "code",
   "execution_count": 3,
   "metadata": {
    "Collapsed": "false"
   },
   "outputs": [
    {
     "name": "stdout",
     "output_type": "stream",
     "text": [
      "[0 1 2 3 4 5 6 7 8 9]\n",
      "sqrt函数:\n",
      " [0.         1.         1.41421356 1.73205081 2.         2.23606798\n",
      " 2.44948974 2.64575131 2.82842712 3.        ]\n",
      "exp自然对数:\n",
      " [1.00000000e+00 2.71828183e+00 7.38905610e+00 2.00855369e+01\n",
      " 5.45981500e+01 1.48413159e+02 4.03428793e+02 1.09663316e+03\n",
      " 2.98095799e+03 8.10308393e+03]\n"
     ]
    }
   ],
   "source": [
    "import numpy as np\n",
    "arr0 = np.arange(10)\n",
    "print(arr0)\n",
    "print(\"sqrt函数:\\n\",np.sqrt(arr0))\n",
    "print(\"exp自然对数:\\n\",np.exp(arr0))"
   ]
  },
  {
   "cell_type": "markdown",
   "metadata": {
    "Collapsed": "false"
   },
   "source": [
    "一些（如add或maximum）接受2个数组（因此也叫二元（binary）ufunc），并返回一个结果数组："
   ]
  },
  {
   "cell_type": "code",
   "execution_count": 6,
   "metadata": {
    "Collapsed": "false"
   },
   "outputs": [
    {
     "name": "stdout",
     "output_type": "stream",
     "text": [
      "[ 1.19420516 -0.27129627 -0.3225947  -0.47327718 -0.72312442 -0.11215648\n",
      " -1.13831301  2.29622732]\n",
      "[-1.17092129 -1.76908861 -0.44090901  0.88683775  2.06960038 -1.61802149\n",
      "  0.77890199 -0.87677574]\n",
      "maximum函数，求数组中元素级别的最大值:\n",
      "\n",
      "[ 1.19420516 -0.27129627 -0.3225947   0.88683775  2.06960038 -0.11215648\n",
      "  0.77890199  2.29622732]\n",
      "modf函数返回一个数组，一个为整数部分，一个为小数部分:\n",
      "\n",
      "==========分割线==============\n",
      "[  1.01592495   1.84338116 -11.57779681   2.22610628  -0.15346882\n",
      "  -1.96872806   1.30364733  -0.04847128]\n",
      "==========分割线==============\n",
      "[ 0.01592495  0.84338116 -0.57779681  0.22610628 -0.15346882 -0.96872806\n",
      "  0.30364733 -0.04847128]\n",
      "==========分割线==============\n",
      "[  1.   1. -11.   2.  -0.  -1.   1.  -0.]\n"
     ]
    }
   ],
   "source": [
    "a = np.random.randn(8)\n",
    "b = np.random.randn(8)\n",
    "print(a)\n",
    "print(b)\n",
    "print(\"maximum函数，求数组中元素级别的最大值:\\n\")\n",
    "print(np.maximum(a,b))\n",
    "x = np.random.randn(8)*5\n",
    "print(\"modf函数返回一个数组，一个为整数部分，一个为小数部分:\\n\")\n",
    "print('==========分割线==============')\n",
    "print(x)\n",
    "print('==========分割线==============')\n",
    "x_0,x_1 = np.modf(x)\n",
    "print(x_0)\n",
    "print('==========分割线==============')\n",
    "print(x_1）2037140248\n",
    "      "
   ]
  }
 ],
 "metadata": {
  "kernelspec": {
   "display_name": "Python 3",
   "language": "python",
   "name": "python3"
  },
  "language_info": {
   "codemirror_mode": {
    "name": "ipython",
    "version": 3
   },
   "file_extension": ".py",
   "mimetype": "text/x-python",
   "name": "python",
   "nbconvert_exporter": "python",
   "pygments_lexer": "ipython3",
   "version": "3.6.9"
  }
 },
 "nbformat": 4,
 "nbformat_minor": 4
}
