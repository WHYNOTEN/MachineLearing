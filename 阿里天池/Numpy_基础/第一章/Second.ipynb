{
 "cells": [
  {
   "cell_type": "markdown",
   "metadata": {
    "Collapsed": "false"
   },
   "source": [
    "1.创建数组最简单的办法就是使用array函数\n",
    "2.嵌套序列（比如由一组等长列表组成的列表）将会被转换为一个多维数组\n",
    "3.除非特别说明（稍后将会详细介绍），np.array会尝试为新建的这个数组推断出一个较为合适的数据类型。数据类型保存在一个特殊的dtype对象中。"
   ]
  },
  {
   "cell_type": "code",
   "execution_count": 4,
   "metadata": {
    "Collapsed": "false"
   },
   "outputs": [
    {
     "name": "stdout",
     "output_type": "stream",
     "text": [
      "[1 2 3 4 5 6]\n",
      "(6,) int32\n",
      "[[1 2 3]\n",
      " [4 5 6]\n",
      " [7 8 9]]\n",
      "(3, 3) int32\n",
      "[[1.2 1.  2.1]\n",
      " [2.3 4.5 5.6]]\n",
      "(2, 3) float64\n"
     ]
    }
   ],
   "source": [
    "import numpy as np\n",
    "data1 = [1,2,3,4,5,6]\n",
    "arry1 = np.array(data1)\n",
    "print(arry1)\n",
    "print(arry1.shape,arry1.dtype)\n",
    "data2 = [[1,2,3],[4,5,6],[7,8,9]]\n",
    "arry2 = np.array(data2)\n",
    "print(arry2)\n",
    "print(arry2.shape,arry2.dtype)\n",
    "data3 = [[1.2,1,2.1],[2.3,4.5,5.6]]\n",
    "arry3 = np.array(data3)\n",
    "print(arry3)\n",
    "print(arry3.shape,arry3.dtype)"
   ]
  },
  {
   "cell_type": "markdown",
   "metadata": {
    "Collapsed": "false"
   },
   "source": [
    "除np.array之外，还有一些函数也可以新建数组。比如，zeros和ones分别可以创建指定长度或形状的全0或全1数组。empty可以创建一个没有任何具体值的数组。要用这些方法创建多维数组，只需传入一个表示形状的元组即可\n",
    "\n",
    "注意：认为np.empty会返回全0数组的想法是不安全的。很多情况下（如前所示），它返回的都是一些未初始化的垃圾值。\n",
    "empty, empty_like 说明更正： 分配内存空间产生随机值，不进行初始化"
   ]
  },
  {
   "cell_type": "code",
   "execution_count": 12,
   "metadata": {
    "Collapsed": "false"
   },
   "outputs": [
    {
     "name": "stdout",
     "output_type": "stream",
     "text": [
      "[0. 0. 0. 0. 0. 0. 0. 0. 0. 0.] (10,) float64\n",
      "[[0. 0. 0. 0. 0. 0.]\n",
      " [0. 0. 0. 0. 0. 0.]\n",
      " [0. 0. 0. 0. 0. 0.]]\n",
      "[[1. 1. 1. 1. 1. 1.]\n",
      " [1. 1. 1. 1. 1. 1.]\n",
      " [1. 1. 1. 1. 1. 1.]]\n",
      "[[1. 0. 0. 0.]\n",
      " [0. 1. 0. 0.]\n",
      " [0. 0. 1. 0.]\n",
      " [0. 0. 0. 1.]]\n",
      "[[1. 1.]\n",
      " [1. 1.]]\n"
     ]
    }
   ],
   "source": [
    "# 创建0数组\n",
    "data_zero = np.zeros(10)\n",
    "print(data_zero,data_zero.shape,data_zero.dtype,end=\"\\n\")\n",
    "print(np.zeros((3,6)))\n",
    "# 创建全1矩阵\n",
    "data_one = np.ones((3,6))\n",
    "print(data_one)\n",
    "#np.eye创建单位矩阵，但是创建的是方阵！！！\n",
    "data_eye = np.eye(4)\n",
    "print(data_eye)\n",
    "# 特殊有的·empty\n",
    "data_empty = np.empty((2,2))\n",
    "print(data_empty)"
   ]
  },
  {
   "cell_type": "markdown",
   "metadata": {
    "Collapsed": "false"
   },
   "source": [
    "arange是Python内置函数range的数组版"
   ]
  },
  {
   "cell_type": "code",
   "execution_count": 15,
   "metadata": {
    "Collapsed": "false"
   },
   "outputs": [
    {
     "name": "stdout",
     "output_type": "stream",
     "text": [
      "[0 1 2 3 4 5 6 7 8 9]\n"
     ]
    }
   ],
   "source": [
    "print(np.arange(10))"
   ]
  },
  {
   "cell_type": "markdown",
   "metadata": {
    "Collapsed": "false"
   },
   "source": [
    "通过ndarray的astype方法明确地将一个数组从一个dtype转换成另一个dtype：\n",
    "整数被转换成了浮点数。如果将浮点数转换成整数，则小数部分将会被截取删除："
   ]
  },
  {
   "cell_type": "code",
   "execution_count": 22,
   "metadata": {
    "Collapsed": "false"
   },
   "outputs": [
    {
     "name": "stdout",
     "output_type": "stream",
     "text": [
      "int32\n",
      "[1. 2. 3. 4.] \n",
      " float64\n",
      "[1.29   3.234  4.4555 6.7978]\n",
      "[1 3 4 6] \n",
      "////*////\n",
      " int64\n"
     ]
    }
   ],
   "source": [
    "arry = np.array([1,2,3,4])\n",
    "print(arry.dtype)\n",
    "float_arry = arry.astype(np.float64)\n",
    "print(float_arry,\"\\n\",float_arry.dtype)\n",
    "arry2 = np.array([1.290,3.234,4.4555,6.7978])\n",
    "int_arry = arry2.astype(np.int64)\n",
    "print(arry2)\n",
    "print(int_arry,\"\\n////*////\\n\",int_arry.dtype)"
   ]
  },
  {
   "cell_type": "markdown",
   "metadata": {
    "Collapsed": "false"
   },
   "source": [
    "如果某字符串数组表示的全是数字，也可以用astype将其转换为数值形式\n",
    "使用numpy.string_类型时，一定要小心，因为NumPy的字符串数据是大小固定的，发生截取时，不会发出警告。pandas提供了更多非数值数据的便利的处理方法。"
   ]
  },
  {
   "cell_type": "code",
   "execution_count": 25,
   "metadata": {
    "Collapsed": "false"
   },
   "outputs": [
    {
     "name": "stdout",
     "output_type": "stream",
     "text": [
      "[ 1.25 -9.6  42.  ]\n"
     ]
    }
   ],
   "source": [
    "numeric_strings = np.array(['1.25', '-9.6', '42'], dtype=np.string_)\n",
    "print(numeric_strings.astype(float))"
   ]
  },
  {
   "cell_type": "markdown",
   "metadata": {
    "Collapsed": "false"
   },
   "source": [
    " NumPy数组的运算\n",
    " 数组与标量的算术运算会将标量值传播到各个元素"
   ]
  },
  {
   "cell_type": "code",
   "execution_count": 31,
   "metadata": {
    "Collapsed": "false"
   },
   "outputs": [
    {
     "name": "stdout",
     "output_type": "stream",
     "text": [
      "[[1 2 3]\n",
      " [4 5 6]]\n",
      "[[ 1  4  9]\n",
      " [16 25 36]]\n",
      "[[ 2  4  6]\n",
      " [ 8 10 12]]\n",
      "[[1.         0.5        0.33333333]\n",
      " [0.25       0.2        0.16666667]]\n",
      "[[ 1  4  9]\n",
      " [16 25 36]]\n"
     ]
    }
   ],
   "source": [
    "arry4 = np.array([[1,2,3],[4,5,6]])\n",
    "print(arry4)\n",
    "print(arry4 * arry4)\n",
    "print(arry4 * 2)\n",
    "print(1 / arry4)\n",
    "print(arry4 ** 2)"
   ]
  },
  {
   "cell_type": "markdown",
   "metadata": {
    "Collapsed": "false"
   },
   "source": [
    "相同大小的数组进行比较会返回bool数组"
   ]
  },
  {
   "cell_type": "code",
   "execution_count": 33,
   "metadata": {
    "Collapsed": "false"
   },
   "outputs": [
    {
     "name": "stdout",
     "output_type": "stream",
     "text": [
      "[False False  True]\n"
     ]
    }
   ],
   "source": [
    "arry5 = np.array([1,2,3])\n",
    "arry6 = np.array([2,2,2])\n",
    "print(arry5 > arry6)"
   ]
  },
  {
   "cell_type": "code",
   "execution_count": 34,
   "metadata": {
    "Collapsed": "false"
   },
   "outputs": [
    {
     "ename": "SyntaxError",
     "evalue": "invalid character in identifier (<ipython-input-34-cc4fc0d1522f>, line 2)",
     "output_type": "error",
     "traceback": [
      "\u001b[1;36m  File \u001b[1;32m\"<ipython-input-34-cc4fc0d1522f>\"\u001b[1;36m, line \u001b[1;32m2\u001b[0m\n\u001b[1;33m    如果两个数组的维数不相同，则元素到元素的操作是不可能的。 然而，在 NumPy 中仍然可以对形状不相似的数组进行操作，因为它拥有广播功能。 较小的数组会广播到较大数组的大小，以便使它们的形状可兼容。\u001b[0m\n\u001b[1;37m                               ^\u001b[0m\n\u001b[1;31mSyntaxError\u001b[0m\u001b[1;31m:\u001b[0m invalid character in identifier\n"
     ]
    }
   ],
   "source": [
    " 数组的广播\n",
    "如果两个数组的维数不相同，则元素到元素的操作是不可能的。 然而，在 NumPy 中仍然可以对形状不相似的数组进行操作，因为它拥有广播功能。 较小的数组会广播到较大数组的大小，以便使它们的形状可兼容。\n",
    "\n",
    "如果满足以下规则，可以进行广播：\n",
    "\n",
    "    ndim较小的数组会在前面追加一个长度为 1 的维度。\n",
    "    输出数组的每个维度的大小是输入数组该维度大小的最大值。\n",
    "    如果输入在每个维度中的大小与输出大小匹配，或其值正好为 1，则可以在计算中使用该输入。\n",
    "    如果输入的某个维度大小为 1，则该维度中的第一个数据元素将用于该维度的所有计算。\n",
    "\n",
    "如果上述规则产生有效结果，并且满足以下条件之一，那么数组被称为可广播的。\n",
    "\n",
    "    数组拥有相同形状。\n",
    "    数组拥有相同的维数，每个维度拥有相同长度，或者长度为 1。\n",
    "    数组拥有极少的维度，可以在其前面追加长度为 1 的维度，使上述条件成立。\n"
   ]
  },
  {
   "cell_type": "code",
   "execution_count": 39,
   "metadata": {
    "Collapsed": "false"
   },
   "outputs": [
    {
     "name": "stdout",
     "output_type": "stream",
     "text": [
      "第一个数组： [[1 2 3]\n",
      " [1 2 3]\n",
      " [0 0 0]] \n",
      "第二个数组： [1 1 2]\n",
      "两个数组相加：\n",
      "[[2 3 5]\n",
      " [2 3 5]\n",
      " [1 1 2]]\n"
     ]
    }
   ],
   "source": [
    "arry7 = np.array([[1,2,3],[1,2,3],[0,0,0]])\n",
    "arry8 = np.array([1,1,2])\n",
    "print(\"第一个数组：\",arry7,\"\\n第二个数组：\",arry8)\n",
    "print(\"两个数组相加：\")\n",
    "print(arry7+arry8)"
   ]
  },
  {
   "cell_type": "markdown",
   "metadata": {
    "Collapsed": "false"
   },
   "source": [
    "基本的索引和切片\n",
    "当你将一个标量值赋值给一个切片时（如arr[5:8]=12），该值会自动传播到整个选区。跟列表最重要的区别在于，数组切片是原始数组的视图。这意味着数据不会被复制，视图上的任何修改都会直接反映到源数组上\n",
    "“只有冒号”表示选取整个轴，因此你可以像下面这样只对高维轴进行切片\n",
    "[]是左闭右开的原则"
   ]
  },
  {
   "cell_type": "code",
   "execution_count": 78,
   "metadata": {
    "Collapsed": "false"
   },
   "outputs": [
    {
     "name": "stdout",
     "output_type": "stream",
     "text": [
      "原数组： [[[1 2 3]\n",
      "  [2 3 4]]\n",
      "\n",
      " [[1 1 1]\n",
      "  [2 2 2]]]\n",
      "切片数组【1：2】：\n",
      " [[[1 1 1]\n",
      "  [2 2 2]]]\n",
      "切片数组修改为0： [[[0 0 0]\n",
      "  [0 0 0]]]\n",
      "修改会传递到原数组中：\n",
      " [[[1 2 3]\n",
      "  [2 3 4]]\n",
      "\n",
      " [[0 0 0]\n",
      "  [0 0 0]]]\n",
      "切片索引[0,1,1],会选取第一个维度的0，第二个维度的1，第三个维度的1：\n",
      "\n",
      "3\n",
      "一次传入多个切片[:1,2:]\n",
      "[[[2 3]\n",
      "  [3 4]]]\n"
     ]
    }
   ],
   "source": [
    "arry9 = np.array([[[1,2,3],[2,3,4]],[[1,1,1],[2,2,2]]])\n",
    "print(\"原数组：\",arry9)\n",
    "print(\"切片数组【1：2】：\\n\",arry9[1:2])\n",
    "arry10 = arry9[1:2]\n",
    "arry10[:] = 0\n",
    "print(\"切片数组修改为0：\",arry10)\n",
    "print(\"修改会传递到原数组中：\\n\",arry9)\n",
    "print(\"切片索引[0,1,1],会选取第一个维度的0，第二个维度的1，第三个维度的1：\\n\")\n",
    "print(arry9[0,1,1])\n",
    "print(\"一次传入多个切片[:1,2:]\")\n",
    "print(arry9[:1,0:,1:])"
   ]
  },
  {
   "cell_type": "markdown",
   "metadata": {
    "Collapsed": "false"
   },
   "source": [
    "花式索引：它指的是利用整数数组进行索引\n",
    "为了以特定顺序选取行子集，只需传入一个用于指定顺序的整数列表或ndarray即可\n",
    "！！！！花式索引跟切片不一样，它总是将数据复制到新数组中!!!!!"
   ]
  },
  {
   "cell_type": "code",
   "execution_count": 82,
   "metadata": {
    "Collapsed": "false"
   },
   "outputs": [
    {
     "name": "stdout",
     "output_type": "stream",
     "text": [
      "[[0. 0. 0. 0.]\n",
      " [1. 1. 1. 1.]\n",
      " [2. 2. 2. 2.]\n",
      " [3. 3. 3. 3.]\n",
      " [4. 4. 4. 4.]\n",
      " [5. 5. 5. 5.]\n",
      " [6. 6. 6. 6.]\n",
      " [7. 7. 7. 7.]]\n",
      "打印arry10[2,4,6,0]:\n",
      " [[2. 2. 2. 2.]\n",
      " [4. 4. 4. 4.]\n",
      " [6. 6. 6. 6.]\n",
      " [0. 0. 0. 0.]]\n"
     ]
    }
   ],
   "source": [
    "arry10 = np.empty((8,4))\n",
    "for i in range(8):\n",
    "    arry10[i] = i\n",
    "print(arry10)\n",
    "print(\"打印arry10[2,4,6,0]:\\n\",arry10[[2,4,6,0]])"
   ]
  }
 ],
 "metadata": {
  "kernelspec": {
   "display_name": "Python 3",
   "language": "python",
   "name": "python3"
  },
  "language_info": {
   "codemirror_mode": {
    "name": "ipython",
    "version": 3
   },
   "file_extension": ".py",
   "mimetype": "text/x-python",
   "name": "python",
   "nbconvert_exporter": "python",
   "pygments_lexer": "ipython3",
   "version": "3.6.9"
  }
 },
 "nbformat": 4,
 "nbformat_minor": 4
}
