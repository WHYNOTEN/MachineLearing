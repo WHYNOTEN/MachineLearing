{
 "cells": [
  {
   "cell_type": "code",
   "execution_count": 224,
   "metadata": {
    "ExecuteTime": {
     "end_time": "2019-12-16T08:19:52.549963Z",
     "start_time": "2019-12-16T08:19:52.286244Z"
    }
   },
   "outputs": [
    {
     "data": {
      "image/png": "[encoded data removed]",
      "text/plain": [
       "<Figure size 432x288 with 1 Axes>"
      ]
     },
     "metadata": {
      "needs_background": "light"
     },
     "output_type": "display_data"
    }
   ],
   "source": [
    "from matplotlib import pyplot as plt\n",
    "import numpy as np\n",
    "import pandas as pd\n",
    "from sklearn.linear_model import LinearRegression\n",
    "X = np.array([[6],[8],[10],[14],[18]])\n",
    "y = [7,9,13,17.5,18]\n",
    "# 设置绘图字体以及正常显示中文，负号\n",
    "plt.rc('font',family=\"SimHei\",size=13)\n",
    "plt.rcParams['axes.unicode_minus'] = False\n",
    "plt.figure()\n",
    "plt.title(u'直径与价格的关系')\n",
    "plt.xlabel(u'直径')\n",
    "plt.ylabel(u'价格')\n",
    "plt.plot(X,y,'k.')\n",
    "plt.axis([0,25,0,25])\n",
    "plt.grid=True\n",
    "plt.show()"
   ]
  },
  {
   "cell_type": "code",
   "execution_count": 225,
   "metadata": {
    "ExecuteTime": {
     "end_time": "2019-12-16T08:19:52.565706Z",
     "start_time": "2019-12-16T08:19:52.554031Z"
    }
   },
   "outputs": [
    {
     "name": "stdout",
     "output_type": "stream",
     "text": [
      "直径为24的披萨价格为25.40\n"
     ]
    }
   ],
   "source": [
    "# 创建简单线性拟合模型\n",
    "model = LinearRegression()\n",
    "model.fit(X,y)\n",
    "# 进行一次简单的预测\n",
    "r = np.random.randint(1,30)\n",
    "test = np.array([[r]])\n",
    "price = model.predict(test)\n",
    "print(\"直径为%s的披萨价格为%.2f\"%(r,price))"
   ]
  },
  {
   "cell_type": "markdown",
   "metadata": {
    "ExecuteTime": {
     "end_time": "2019-12-16T08:11:38.556694Z",
     "start_time": "2019-12-16T08:11:38.548450Z"
    }
   },
   "source": [
    "# 使用代价函数对模型进行修改"
   ]
  },
  {
   "cell_type": "code",
   "execution_count": 231,
   "metadata": {
    "ExecuteTime": {
     "end_time": "2019-12-16T08:21:31.188890Z",
     "start_time": "2019-12-16T08:21:31.175787Z"
    }
   },
   "outputs": [
    {
     "name": "stdout",
     "output_type": "stream",
     "text": [
      "该模型残差平方和为1.749569\n"
     ]
    }
   ],
   "source": [
    "# 残差平方和(RSS)代价函数\n",
    "# 利用预测值与真实值的差值来计算\n",
    "loss = np.mean((model.predict(X)-y)**2)\n",
    "print(\"该模型残差平方和（即损失函数值）为%f\" % loss)"
   ]
  },
  {
   "cell_type": "markdown",
   "metadata": {
    "ExecuteTime": {
     "end_time": "2019-12-16T08:21:04.006640Z",
     "start_time": "2019-12-16T08:21:03.998484Z"
    }
   },
   "source": [
    "若让残差平方和值最小，那么每个预测值就越准确！\n",
    "而简单线性回归方程为y = aX+b"
   ]
  },
  {
   "cell_type": "code",
   "execution_count": 257,
   "metadata": {
    "ExecuteTime": {
     "end_time": "2019-12-16T08:34:45.411575Z",
     "start_time": "2019-12-16T08:34:45.402896Z"
    }
   },
   "outputs": [
    {
     "name": "stdout",
     "output_type": "stream",
     "text": [
      "X方差为:23.2\n",
      "协方差为:22.650000000000002\n"
     ]
    }
   ],
   "source": [
    "# 利用numpy求方差，同时利用参数ddof进行贝塞尔校正\n",
    "variance = np.var(X,ddof=1)\n",
    "# 利用numpy求x，y的协方差(协方差：变量一起增加，协方差为正；一个变量减小，另一个增大，协方差为负)\n",
    "covariance = np.cov(X.transpose(),y)[0][1]\n",
    "# np.cov函数返回数组，[0][1]为协方差，\n",
    "print(\"X方差为:{0}\\n协方差为:{1}\".format(variance,covariance))"
   ]
  },
  {
   "cell_type": "markdown",
   "metadata": {
    "ExecuteTime": {
     "end_time": "2019-12-16T08:35:59.265666Z",
     "start_time": "2019-12-16T08:35:59.239287Z"
    }
   },
   "source": [
    "利用公式a = cov(x,y)/var(x)求得a，再利用线性关系y_bar = a*x_bar+b求得b"
   ]
  },
  {
   "cell_type": "code",
   "execution_count": 265,
   "metadata": {
    "ExecuteTime": {
     "end_time": "2019-12-16T08:44:08.442461Z",
     "start_time": "2019-12-16T08:44:08.427794Z"
    }
   },
   "outputs": [
    {
     "data": {
      "text/plain": [
       "[9.775862068965518,\n",
       " 10.752155172413794,\n",
       " 12.704741379310345,\n",
       " 17.586206896551726,\n",
       " 13.681034482758623]"
      ]
     },
     "execution_count": 265,
     "metadata": {},
     "output_type": "execute_result"
    }
   ],
   "source": [
    "x_bar = X.mean()\n",
    "y_bar = np.mean(y)\n",
    "a = covariance/variance\n",
    "w = y_bar-x_bar*(a)"
   ]
  },
  {
   "cell_type": "code",
   "execution_count": null,
   "metadata": {},
   "outputs": [],
   "source": [
    "评估模型：利用皮尔逊相关系数即用：1 -（真实值-均值）**2/RSS"
   ]
  },
  {
   "cell_type": "code",
   "execution_count": 266,
   "metadata": {
    "ExecuteTime": {
     "end_time": "2019-12-16T08:47:49.466603Z",
     "start_time": "2019-12-16T08:47:49.451270Z"
    }
   },
   "outputs": [
    {
     "data": {
      "text/plain": [
       "1.0"
      ]
     },
     "execution_count": 266,
     "metadata": {},
     "output_type": "execute_result"
    }
   ],
   "source": [
    "def test_result(circles):\n",
    "    results = []\n",
    "    for i in circles:\n",
    "        results.append(a*i+w)\n",
    "    return results\n",
    "x_test = [8,9,11,16,12]\n",
    "y_test = test_result(x_test)\n",
    "r_squared = model.score(np.array(x_test).reshape(-1,1),y_test)\n",
    "r_squared"
   ]
  }
 ],
 "metadata": {
  "kernelspec": {
   "display_name": "Python 3",
   "language": "python",
   "name": "python3"
  },
  "language_info": {
   "codemirror_mode": {
    "name": "ipython",
    "version": 3
   },
   "file_extension": ".py",
   "mimetype": "text/x-python",
   "name": "python",
   "nbconvert_exporter": "python",
   "pygments_lexer": "ipython3",
   "version": "3.6.9"
  },
  "toc": {
   "base_numbering": 1,
   "nav_menu": {},
   "number_sections": true,
   "sideBar": true,
   "skip_h1_title": false,
   "title_cell": "Table of Contents",
   "title_sidebar": "Contents",
   "toc_cell": false,
   "toc_position": {},
   "toc_section_display": true,
   "toc_window_display": false
  },
  "varInspector": {
   "cols": {
    "lenName": 16,
    "lenType": 16,
    "lenVar": 40
   },
   "kernels_config": {
    "python": {
     "delete_cmd_postfix": "",
     "delete_cmd_prefix": "del ",
     "library": "var_list.py",
     "varRefreshCmd": "print(var_dic_list())"
    },
    "r": {
     "delete_cmd_postfix": ") ",
     "delete_cmd_prefix": "rm(",
     "library": "var_list.r",
     "varRefreshCmd": "cat(var_dic_list()) "
    }
   },
   "position": {
    "height": "349.75px",
    "left": "995.653px",
    "right": "20px",
    "top": "31px",
    "width": "660.75px"
   },
   "types_to_exclude": [
    "module",
    "function",
    "builtin_function_or_method",
    "instance",
    "_Feature"
   ],
   "window_display": true
  }
 },
 "nbformat": 4,
 "nbformat_minor": 2
}
